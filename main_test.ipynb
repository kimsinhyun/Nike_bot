{
 "cells": [
  {
   "cell_type": "code",
   "execution_count": 1,
   "id": "4b529950",
   "metadata": {
    "ExecuteTime": {
     "end_time": "2022-02-06T09:55:19.696694Z",
     "start_time": "2022-02-06T09:55:19.676748Z"
    }
   },
   "outputs": [],
   "source": [
    "# !pip install pyperclip\n",
    "# !pip install pytz\n",
    "# !pip install schedule\n",
    "# !pip install pause"
   ]
  },
  {
   "cell_type": "code",
   "execution_count": 1,
   "id": "3801ea6c",
   "metadata": {
    "ExecuteTime": {
     "end_time": "2022-02-09T03:44:16.907064Z",
     "start_time": "2022-02-09T03:44:16.678361Z"
    }
   },
   "outputs": [],
   "source": [
    "from selenium import webdriver\n",
    "from selenium.webdriver.common.alert import Alert\n",
    "from selenium.webdriver.common.desired_capabilities import DesiredCapabilities \n",
    "from selenium.webdriver.support.ui import WebDriverWait as wait \n",
    "from selenium.webdriver.common.by import By \n",
    "from selenium.webdriver.support import expected_conditions as EC\n",
    "from selenium.webdriver.support.ui import WebDriverWait\n",
    "from selenium.webdriver.chrome.options import Options\n",
    "from selenium.webdriver.common.keys import Keys\n",
    "from selenium.webdriver import ActionChains\n",
    "\n",
    "from time import sleep\n",
    "import time\n",
    "\n",
    "import os\n",
    "\n",
    "#버전 관리용 라이브러리\n",
    "import chromedriver_autoinstaller\n",
    "\n",
    "import subprocess\n",
    "import shutil\n",
    "\n",
    "import datetime\n",
    "from pytz import timezone\n",
    "\n",
    "import pyperclip\n"
   ]
  },
  {
   "cell_type": "code",
   "execution_count": 2,
   "id": "c638d456",
   "metadata": {
    "ExecuteTime": {
     "end_time": "2022-02-09T03:44:25.710943Z",
     "start_time": "2022-02-09T03:44:17.366959Z"
    },
    "scrolled": true
   },
   "outputs": [
    {
     "name": "stderr",
     "output_type": "stream",
     "text": [
      "C:\\Users\\Public\\Documents\\ESTsoft\\CreatorTemp\\ipykernel_27860\\2704149425.py:39: DeprecationWarning: executable_path has been deprecated, please pass in a Service object\n",
      "  driver = webdriver.Chrome(executable_path=f'{chrome_driver_path}',desired_capabilities=caps, options=option)\n",
      "C:\\Users\\Public\\Documents\\ESTsoft\\CreatorTemp\\ipykernel_27860\\2704149425.py:42: DeprecationWarning: executable_path has been deprecated, please pass in a Service object\n",
      "  driver = webdriver.Chrome(executable_path=f'{chrome_driver_path}',desired_capabilities=caps, options=option)\n"
     ]
    },
    {
     "ename": "WebDriverException",
     "evalue": "Message: unknown error: cannot connect to chrome at 127.0.0.1:9222\nfrom session not created: This version of ChromeDriver only supports Chrome version 98\nCurrent browser version is 97.0.4692.99\nStacktrace:\nBacktrace:\n\tOrdinal0 [0x00D77AC3+2587331]\n\tOrdinal0 [0x00D0ADD1+2141649]\n\tOrdinal0 [0x00C03BB8+1063864]\n\tOrdinal0 [0x00C23638+1193528]\n\tOrdinal0 [0x00C1CD9B+1166747]\n\tOrdinal0 [0x00C1CB66+1166182]\n\tOrdinal0 [0x00C4D12F+1364271]\n\tOrdinal0 [0x00C4CD5A+1363290]\n\tOrdinal0 [0x00C484A6+1344678]\n\tOrdinal0 [0x00C253F6+1201142]\n\tOrdinal0 [0x00C262E6+1204966]\n\tGetHandleVerifier [0x00F1DF22+1680738]\n\tGetHandleVerifier [0x00FD0DBC+2413564]\n\tGetHandleVerifier [0x00E0D151+563089]\n\tGetHandleVerifier [0x00E0BF13+558419]\n\tOrdinal0 [0x00D1081E+2164766]\n\tOrdinal0 [0x00D15508+2184456]\n\tOrdinal0 [0x00D15650+2184784]\n\tOrdinal0 [0x00D1F5BC+2225596]\n\tBaseThreadInitThunk [0x7765FA29+25]\n\tRtlGetAppContainerNamedObjectPath [0x77D67A9E+286]\n\tRtlGetAppContainerNamedObjectPath [0x77D67A6E+238]\n",
     "output_type": "error",
     "traceback": [
      "\u001b[1;31m---------------------------------------------------------------------------\u001b[0m",
      "\u001b[1;31mWebDriverException\u001b[0m                        Traceback (most recent call last)",
      "Input \u001b[1;32mIn [2]\u001b[0m, in \u001b[0;36m<module>\u001b[1;34m\u001b[0m\n\u001b[0;32m     38\u001b[0m \u001b[38;5;28;01mtry\u001b[39;00m:\n\u001b[1;32m---> 39\u001b[0m     driver \u001b[38;5;241m=\u001b[39m \u001b[43mwebdriver\u001b[49m\u001b[38;5;241;43m.\u001b[39;49m\u001b[43mChrome\u001b[49m\u001b[43m(\u001b[49m\u001b[43mexecutable_path\u001b[49m\u001b[38;5;241;43m=\u001b[39;49m\u001b[38;5;124;43mf\u001b[39;49m\u001b[38;5;124;43m'\u001b[39;49m\u001b[38;5;132;43;01m{\u001b[39;49;00m\u001b[43mchrome_driver_path\u001b[49m\u001b[38;5;132;43;01m}\u001b[39;49;00m\u001b[38;5;124;43m'\u001b[39;49m\u001b[43m,\u001b[49m\u001b[43mdesired_capabilities\u001b[49m\u001b[38;5;241;43m=\u001b[39;49m\u001b[43mcaps\u001b[49m\u001b[43m,\u001b[49m\u001b[43m \u001b[49m\u001b[43moptions\u001b[49m\u001b[38;5;241;43m=\u001b[39;49m\u001b[43moption\u001b[49m\u001b[43m)\u001b[49m\n\u001b[0;32m     40\u001b[0m \u001b[38;5;28;01mexcept\u001b[39;00m:\n",
      "File \u001b[1;32m~\\anaconda3\\envs\\nike\\lib\\site-packages\\selenium\\webdriver\\chrome\\webdriver.py:70\u001b[0m, in \u001b[0;36mWebDriver.__init__\u001b[1;34m(self, executable_path, port, options, service_args, desired_capabilities, service_log_path, chrome_options, service, keep_alive)\u001b[0m\n\u001b[0;32m     68\u001b[0m     service \u001b[38;5;241m=\u001b[39m Service(executable_path, port, service_args, service_log_path)\n\u001b[1;32m---> 70\u001b[0m \u001b[38;5;28;43msuper\u001b[39;49m\u001b[43m(\u001b[49m\u001b[43mWebDriver\u001b[49m\u001b[43m,\u001b[49m\u001b[43m \u001b[49m\u001b[38;5;28;43mself\u001b[39;49m\u001b[43m)\u001b[49m\u001b[38;5;241;43m.\u001b[39;49m\u001b[38;5;21;43m__init__\u001b[39;49m\u001b[43m(\u001b[49m\u001b[43mDesiredCapabilities\u001b[49m\u001b[38;5;241;43m.\u001b[39;49m\u001b[43mCHROME\u001b[49m\u001b[43m[\u001b[49m\u001b[38;5;124;43m'\u001b[39;49m\u001b[38;5;124;43mbrowserName\u001b[39;49m\u001b[38;5;124;43m'\u001b[39;49m\u001b[43m]\u001b[49m\u001b[43m,\u001b[49m\u001b[43m \u001b[49m\u001b[38;5;124;43m\"\u001b[39;49m\u001b[38;5;124;43mgoog\u001b[39;49m\u001b[38;5;124;43m\"\u001b[39;49m\u001b[43m,\u001b[49m\n\u001b[0;32m     71\u001b[0m \u001b[43m                                \u001b[49m\u001b[43mport\u001b[49m\u001b[43m,\u001b[49m\u001b[43m \u001b[49m\u001b[43moptions\u001b[49m\u001b[43m,\u001b[49m\n\u001b[0;32m     72\u001b[0m \u001b[43m                                \u001b[49m\u001b[43mservice_args\u001b[49m\u001b[43m,\u001b[49m\u001b[43m \u001b[49m\u001b[43mdesired_capabilities\u001b[49m\u001b[43m,\u001b[49m\n\u001b[0;32m     73\u001b[0m \u001b[43m                                \u001b[49m\u001b[43mservice_log_path\u001b[49m\u001b[43m,\u001b[49m\u001b[43m \u001b[49m\u001b[43mservice\u001b[49m\u001b[43m,\u001b[49m\u001b[43m \u001b[49m\u001b[43mkeep_alive\u001b[49m\u001b[43m)\u001b[49m\n",
      "File \u001b[1;32m~\\anaconda3\\envs\\nike\\lib\\site-packages\\selenium\\webdriver\\chromium\\webdriver.py:93\u001b[0m, in \u001b[0;36mChromiumDriver.__init__\u001b[1;34m(self, browser_name, vendor_prefix, port, options, service_args, desired_capabilities, service_log_path, service, keep_alive)\u001b[0m\n\u001b[0;32m     92\u001b[0m \u001b[38;5;28;01mtry\u001b[39;00m:\n\u001b[1;32m---> 93\u001b[0m     \u001b[43mRemoteWebDriver\u001b[49m\u001b[38;5;241;43m.\u001b[39;49m\u001b[38;5;21;43m__init__\u001b[39;49m\u001b[43m(\u001b[49m\n\u001b[0;32m     94\u001b[0m \u001b[43m        \u001b[49m\u001b[38;5;28;43mself\u001b[39;49m\u001b[43m,\u001b[49m\n\u001b[0;32m     95\u001b[0m \u001b[43m        \u001b[49m\u001b[43mcommand_executor\u001b[49m\u001b[38;5;241;43m=\u001b[39;49m\u001b[43mChromiumRemoteConnection\u001b[49m\u001b[43m(\u001b[49m\n\u001b[0;32m     96\u001b[0m \u001b[43m            \u001b[49m\u001b[43mremote_server_addr\u001b[49m\u001b[38;5;241;43m=\u001b[39;49m\u001b[38;5;28;43mself\u001b[39;49m\u001b[38;5;241;43m.\u001b[39;49m\u001b[43mservice\u001b[49m\u001b[38;5;241;43m.\u001b[39;49m\u001b[43mservice_url\u001b[49m\u001b[43m,\u001b[49m\n\u001b[0;32m     97\u001b[0m \u001b[43m            \u001b[49m\u001b[43mbrowser_name\u001b[49m\u001b[38;5;241;43m=\u001b[39;49m\u001b[43mbrowser_name\u001b[49m\u001b[43m,\u001b[49m\u001b[43m \u001b[49m\u001b[43mvendor_prefix\u001b[49m\u001b[38;5;241;43m=\u001b[39;49m\u001b[43mvendor_prefix\u001b[49m\u001b[43m,\u001b[49m\n\u001b[0;32m     98\u001b[0m \u001b[43m            \u001b[49m\u001b[43mkeep_alive\u001b[49m\u001b[38;5;241;43m=\u001b[39;49m\u001b[43mkeep_alive\u001b[49m\u001b[43m,\u001b[49m\u001b[43m \u001b[49m\u001b[43mignore_proxy\u001b[49m\u001b[38;5;241;43m=\u001b[39;49m\u001b[43m_ignore_proxy\u001b[49m\u001b[43m)\u001b[49m\u001b[43m,\u001b[49m\n\u001b[0;32m     99\u001b[0m \u001b[43m        \u001b[49m\u001b[43moptions\u001b[49m\u001b[38;5;241;43m=\u001b[39;49m\u001b[43moptions\u001b[49m\u001b[43m)\u001b[49m\n\u001b[0;32m    100\u001b[0m \u001b[38;5;28;01mexcept\u001b[39;00m \u001b[38;5;167;01mException\u001b[39;00m:\n",
      "File \u001b[1;32m~\\anaconda3\\envs\\nike\\lib\\site-packages\\selenium\\webdriver\\remote\\webdriver.py:268\u001b[0m, in \u001b[0;36mWebDriver.__init__\u001b[1;34m(self, command_executor, desired_capabilities, browser_profile, proxy, keep_alive, file_detector, options)\u001b[0m\n\u001b[0;32m    267\u001b[0m \u001b[38;5;28mself\u001b[39m\u001b[38;5;241m.\u001b[39mstart_client()\n\u001b[1;32m--> 268\u001b[0m \u001b[38;5;28;43mself\u001b[39;49m\u001b[38;5;241;43m.\u001b[39;49m\u001b[43mstart_session\u001b[49m\u001b[43m(\u001b[49m\u001b[43mcapabilities\u001b[49m\u001b[43m,\u001b[49m\u001b[43m \u001b[49m\u001b[43mbrowser_profile\u001b[49m\u001b[43m)\u001b[49m\n",
      "File \u001b[1;32m~\\anaconda3\\envs\\nike\\lib\\site-packages\\selenium\\webdriver\\remote\\webdriver.py:359\u001b[0m, in \u001b[0;36mWebDriver.start_session\u001b[1;34m(self, capabilities, browser_profile)\u001b[0m\n\u001b[0;32m    357\u001b[0m parameters \u001b[38;5;241m=\u001b[39m {\u001b[38;5;124m\"\u001b[39m\u001b[38;5;124mcapabilities\u001b[39m\u001b[38;5;124m\"\u001b[39m: w3c_caps,\n\u001b[0;32m    358\u001b[0m               \u001b[38;5;124m\"\u001b[39m\u001b[38;5;124mdesiredCapabilities\u001b[39m\u001b[38;5;124m\"\u001b[39m: capabilities}\n\u001b[1;32m--> 359\u001b[0m response \u001b[38;5;241m=\u001b[39m \u001b[38;5;28;43mself\u001b[39;49m\u001b[38;5;241;43m.\u001b[39;49m\u001b[43mexecute\u001b[49m\u001b[43m(\u001b[49m\u001b[43mCommand\u001b[49m\u001b[38;5;241;43m.\u001b[39;49m\u001b[43mNEW_SESSION\u001b[49m\u001b[43m,\u001b[49m\u001b[43m \u001b[49m\u001b[43mparameters\u001b[49m\u001b[43m)\u001b[49m\n\u001b[0;32m    360\u001b[0m \u001b[38;5;28;01mif\u001b[39;00m \u001b[38;5;124m'\u001b[39m\u001b[38;5;124msessionId\u001b[39m\u001b[38;5;124m'\u001b[39m \u001b[38;5;129;01mnot\u001b[39;00m \u001b[38;5;129;01min\u001b[39;00m response:\n",
      "File \u001b[1;32m~\\anaconda3\\envs\\nike\\lib\\site-packages\\selenium\\webdriver\\remote\\webdriver.py:424\u001b[0m, in \u001b[0;36mWebDriver.execute\u001b[1;34m(self, driver_command, params)\u001b[0m\n\u001b[0;32m    423\u001b[0m \u001b[38;5;28;01mif\u001b[39;00m response:\n\u001b[1;32m--> 424\u001b[0m     \u001b[38;5;28;43mself\u001b[39;49m\u001b[38;5;241;43m.\u001b[39;49m\u001b[43merror_handler\u001b[49m\u001b[38;5;241;43m.\u001b[39;49m\u001b[43mcheck_response\u001b[49m\u001b[43m(\u001b[49m\u001b[43mresponse\u001b[49m\u001b[43m)\u001b[49m\n\u001b[0;32m    425\u001b[0m     response[\u001b[38;5;124m'\u001b[39m\u001b[38;5;124mvalue\u001b[39m\u001b[38;5;124m'\u001b[39m] \u001b[38;5;241m=\u001b[39m \u001b[38;5;28mself\u001b[39m\u001b[38;5;241m.\u001b[39m_unwrap_value(\n\u001b[0;32m    426\u001b[0m         response\u001b[38;5;241m.\u001b[39mget(\u001b[38;5;124m'\u001b[39m\u001b[38;5;124mvalue\u001b[39m\u001b[38;5;124m'\u001b[39m, \u001b[38;5;28;01mNone\u001b[39;00m))\n",
      "File \u001b[1;32m~\\anaconda3\\envs\\nike\\lib\\site-packages\\selenium\\webdriver\\remote\\errorhandler.py:247\u001b[0m, in \u001b[0;36mErrorHandler.check_response\u001b[1;34m(self, response)\u001b[0m\n\u001b[0;32m    246\u001b[0m     \u001b[38;5;28;01mraise\u001b[39;00m exception_class(message, screen, stacktrace, alert_text)  \u001b[38;5;66;03m# type: ignore[call-arg]  # mypy is not smart enough here\u001b[39;00m\n\u001b[1;32m--> 247\u001b[0m \u001b[38;5;28;01mraise\u001b[39;00m exception_class(message, screen, stacktrace)\n",
      "\u001b[1;31mWebDriverException\u001b[0m: Message: unknown error: cannot connect to chrome at 127.0.0.1:9222\nfrom session not created: This version of ChromeDriver only supports Chrome version 98\nCurrent browser version is 97.0.4692.99\nStacktrace:\nBacktrace:\n\tOrdinal0 [0x00D77AC3+2587331]\n\tOrdinal0 [0x00D0ADD1+2141649]\n\tOrdinal0 [0x00C03BB8+1063864]\n\tOrdinal0 [0x00C23638+1193528]\n\tOrdinal0 [0x00C1CD9B+1166747]\n\tOrdinal0 [0x00C1CB66+1166182]\n\tOrdinal0 [0x00C4D12F+1364271]\n\tOrdinal0 [0x00C4CD5A+1363290]\n\tOrdinal0 [0x00C484A6+1344678]\n\tOrdinal0 [0x00C253F6+1201142]\n\tOrdinal0 [0x00C262E6+1204966]\n\tGetHandleVerifier [0x00F1DF22+1680738]\n\tGetHandleVerifier [0x00FD0DBC+2413564]\n\tGetHandleVerifier [0x00E0D151+563089]\n\tGetHandleVerifier [0x00E0BF13+558419]\n\tOrdinal0 [0x00D1081E+2164766]\n\tOrdinal0 [0x00D15508+2184456]\n\tOrdinal0 [0x00D15650+2184784]\n\tOrdinal0 [0x00D1F5BC+2225596]\n\tBaseThreadInitThunk [0x7765FA29+25]\n\tRtlGetAppContainerNamedObjectPath [0x77D67A9E+286]\n\tRtlGetAppContainerNamedObjectPath [0x77D67A6E+238]\n",
      "\nDuring handling of the above exception, another exception occurred:\n",
      "\u001b[1;31mWebDriverException\u001b[0m                        Traceback (most recent call last)",
      "Input \u001b[1;32mIn [2]\u001b[0m, in \u001b[0;36m<module>\u001b[1;34m\u001b[0m\n\u001b[0;32m     40\u001b[0m \u001b[38;5;28;01mexcept\u001b[39;00m:\n\u001b[0;32m     41\u001b[0m     chromedriver_autoinstaller\u001b[38;5;241m.\u001b[39minstall(\u001b[38;5;28;01mTrue\u001b[39;00m)\n\u001b[1;32m---> 42\u001b[0m     driver \u001b[38;5;241m=\u001b[39m \u001b[43mwebdriver\u001b[49m\u001b[38;5;241;43m.\u001b[39;49m\u001b[43mChrome\u001b[49m\u001b[43m(\u001b[49m\u001b[43mexecutable_path\u001b[49m\u001b[38;5;241;43m=\u001b[39;49m\u001b[38;5;124;43mf\u001b[39;49m\u001b[38;5;124;43m'\u001b[39;49m\u001b[38;5;132;43;01m{\u001b[39;49;00m\u001b[43mchrome_driver_path\u001b[49m\u001b[38;5;132;43;01m}\u001b[39;49;00m\u001b[38;5;124;43m'\u001b[39;49m\u001b[43m,\u001b[49m\u001b[43mdesired_capabilities\u001b[49m\u001b[38;5;241;43m=\u001b[39;49m\u001b[43mcaps\u001b[49m\u001b[43m,\u001b[49m\u001b[43m \u001b[49m\u001b[43moptions\u001b[49m\u001b[38;5;241;43m=\u001b[39;49m\u001b[43moption\u001b[49m\u001b[43m)\u001b[49m\n\u001b[0;32m     44\u001b[0m \u001b[38;5;66;03m#암시적 wait 설정\u001b[39;00m\n\u001b[0;32m     45\u001b[0m driver\u001b[38;5;241m.\u001b[39mimplicitly_wait(\u001b[38;5;241m1\u001b[39m)    \n",
      "File \u001b[1;32m~\\anaconda3\\envs\\nike\\lib\\site-packages\\selenium\\webdriver\\chrome\\webdriver.py:70\u001b[0m, in \u001b[0;36mWebDriver.__init__\u001b[1;34m(self, executable_path, port, options, service_args, desired_capabilities, service_log_path, chrome_options, service, keep_alive)\u001b[0m\n\u001b[0;32m     67\u001b[0m \u001b[38;5;28;01mif\u001b[39;00m \u001b[38;5;129;01mnot\u001b[39;00m service:\n\u001b[0;32m     68\u001b[0m     service \u001b[38;5;241m=\u001b[39m Service(executable_path, port, service_args, service_log_path)\n\u001b[1;32m---> 70\u001b[0m \u001b[38;5;28;43msuper\u001b[39;49m\u001b[43m(\u001b[49m\u001b[43mWebDriver\u001b[49m\u001b[43m,\u001b[49m\u001b[43m \u001b[49m\u001b[38;5;28;43mself\u001b[39;49m\u001b[43m)\u001b[49m\u001b[38;5;241;43m.\u001b[39;49m\u001b[38;5;21;43m__init__\u001b[39;49m\u001b[43m(\u001b[49m\u001b[43mDesiredCapabilities\u001b[49m\u001b[38;5;241;43m.\u001b[39;49m\u001b[43mCHROME\u001b[49m\u001b[43m[\u001b[49m\u001b[38;5;124;43m'\u001b[39;49m\u001b[38;5;124;43mbrowserName\u001b[39;49m\u001b[38;5;124;43m'\u001b[39;49m\u001b[43m]\u001b[49m\u001b[43m,\u001b[49m\u001b[43m \u001b[49m\u001b[38;5;124;43m\"\u001b[39;49m\u001b[38;5;124;43mgoog\u001b[39;49m\u001b[38;5;124;43m\"\u001b[39;49m\u001b[43m,\u001b[49m\n\u001b[0;32m     71\u001b[0m \u001b[43m                                \u001b[49m\u001b[43mport\u001b[49m\u001b[43m,\u001b[49m\u001b[43m \u001b[49m\u001b[43moptions\u001b[49m\u001b[43m,\u001b[49m\n\u001b[0;32m     72\u001b[0m \u001b[43m                                \u001b[49m\u001b[43mservice_args\u001b[49m\u001b[43m,\u001b[49m\u001b[43m \u001b[49m\u001b[43mdesired_capabilities\u001b[49m\u001b[43m,\u001b[49m\n\u001b[0;32m     73\u001b[0m \u001b[43m                                \u001b[49m\u001b[43mservice_log_path\u001b[49m\u001b[43m,\u001b[49m\u001b[43m \u001b[49m\u001b[43mservice\u001b[49m\u001b[43m,\u001b[49m\u001b[43m \u001b[49m\u001b[43mkeep_alive\u001b[49m\u001b[43m)\u001b[49m\n",
      "File \u001b[1;32m~\\anaconda3\\envs\\nike\\lib\\site-packages\\selenium\\webdriver\\chromium\\webdriver.py:93\u001b[0m, in \u001b[0;36mChromiumDriver.__init__\u001b[1;34m(self, browser_name, vendor_prefix, port, options, service_args, desired_capabilities, service_log_path, service, keep_alive)\u001b[0m\n\u001b[0;32m     90\u001b[0m \u001b[38;5;28mself\u001b[39m\u001b[38;5;241m.\u001b[39mservice\u001b[38;5;241m.\u001b[39mstart()\n\u001b[0;32m     92\u001b[0m \u001b[38;5;28;01mtry\u001b[39;00m:\n\u001b[1;32m---> 93\u001b[0m     \u001b[43mRemoteWebDriver\u001b[49m\u001b[38;5;241;43m.\u001b[39;49m\u001b[38;5;21;43m__init__\u001b[39;49m\u001b[43m(\u001b[49m\n\u001b[0;32m     94\u001b[0m \u001b[43m        \u001b[49m\u001b[38;5;28;43mself\u001b[39;49m\u001b[43m,\u001b[49m\n\u001b[0;32m     95\u001b[0m \u001b[43m        \u001b[49m\u001b[43mcommand_executor\u001b[49m\u001b[38;5;241;43m=\u001b[39;49m\u001b[43mChromiumRemoteConnection\u001b[49m\u001b[43m(\u001b[49m\n\u001b[0;32m     96\u001b[0m \u001b[43m            \u001b[49m\u001b[43mremote_server_addr\u001b[49m\u001b[38;5;241;43m=\u001b[39;49m\u001b[38;5;28;43mself\u001b[39;49m\u001b[38;5;241;43m.\u001b[39;49m\u001b[43mservice\u001b[49m\u001b[38;5;241;43m.\u001b[39;49m\u001b[43mservice_url\u001b[49m\u001b[43m,\u001b[49m\n\u001b[0;32m     97\u001b[0m \u001b[43m            \u001b[49m\u001b[43mbrowser_name\u001b[49m\u001b[38;5;241;43m=\u001b[39;49m\u001b[43mbrowser_name\u001b[49m\u001b[43m,\u001b[49m\u001b[43m \u001b[49m\u001b[43mvendor_prefix\u001b[49m\u001b[38;5;241;43m=\u001b[39;49m\u001b[43mvendor_prefix\u001b[49m\u001b[43m,\u001b[49m\n\u001b[0;32m     98\u001b[0m \u001b[43m            \u001b[49m\u001b[43mkeep_alive\u001b[49m\u001b[38;5;241;43m=\u001b[39;49m\u001b[43mkeep_alive\u001b[49m\u001b[43m,\u001b[49m\u001b[43m \u001b[49m\u001b[43mignore_proxy\u001b[49m\u001b[38;5;241;43m=\u001b[39;49m\u001b[43m_ignore_proxy\u001b[49m\u001b[43m)\u001b[49m\u001b[43m,\u001b[49m\n\u001b[0;32m     99\u001b[0m \u001b[43m        \u001b[49m\u001b[43moptions\u001b[49m\u001b[38;5;241;43m=\u001b[39;49m\u001b[43moptions\u001b[49m\u001b[43m)\u001b[49m\n\u001b[0;32m    100\u001b[0m \u001b[38;5;28;01mexcept\u001b[39;00m \u001b[38;5;167;01mException\u001b[39;00m:\n\u001b[0;32m    101\u001b[0m     \u001b[38;5;28mself\u001b[39m\u001b[38;5;241m.\u001b[39mquit()\n",
      "File \u001b[1;32m~\\anaconda3\\envs\\nike\\lib\\site-packages\\selenium\\webdriver\\remote\\webdriver.py:268\u001b[0m, in \u001b[0;36mWebDriver.__init__\u001b[1;34m(self, command_executor, desired_capabilities, browser_profile, proxy, keep_alive, file_detector, options)\u001b[0m\n\u001b[0;32m    266\u001b[0m \u001b[38;5;28mself\u001b[39m\u001b[38;5;241m.\u001b[39mfile_detector \u001b[38;5;241m=\u001b[39m file_detector \u001b[38;5;129;01mor\u001b[39;00m LocalFileDetector()\n\u001b[0;32m    267\u001b[0m \u001b[38;5;28mself\u001b[39m\u001b[38;5;241m.\u001b[39mstart_client()\n\u001b[1;32m--> 268\u001b[0m \u001b[38;5;28;43mself\u001b[39;49m\u001b[38;5;241;43m.\u001b[39;49m\u001b[43mstart_session\u001b[49m\u001b[43m(\u001b[49m\u001b[43mcapabilities\u001b[49m\u001b[43m,\u001b[49m\u001b[43m \u001b[49m\u001b[43mbrowser_profile\u001b[49m\u001b[43m)\u001b[49m\n",
      "File \u001b[1;32m~\\anaconda3\\envs\\nike\\lib\\site-packages\\selenium\\webdriver\\remote\\webdriver.py:359\u001b[0m, in \u001b[0;36mWebDriver.start_session\u001b[1;34m(self, capabilities, browser_profile)\u001b[0m\n\u001b[0;32m    356\u001b[0m w3c_caps \u001b[38;5;241m=\u001b[39m _make_w3c_caps(capabilities)\n\u001b[0;32m    357\u001b[0m parameters \u001b[38;5;241m=\u001b[39m {\u001b[38;5;124m\"\u001b[39m\u001b[38;5;124mcapabilities\u001b[39m\u001b[38;5;124m\"\u001b[39m: w3c_caps,\n\u001b[0;32m    358\u001b[0m               \u001b[38;5;124m\"\u001b[39m\u001b[38;5;124mdesiredCapabilities\u001b[39m\u001b[38;5;124m\"\u001b[39m: capabilities}\n\u001b[1;32m--> 359\u001b[0m response \u001b[38;5;241m=\u001b[39m \u001b[38;5;28;43mself\u001b[39;49m\u001b[38;5;241;43m.\u001b[39;49m\u001b[43mexecute\u001b[49m\u001b[43m(\u001b[49m\u001b[43mCommand\u001b[49m\u001b[38;5;241;43m.\u001b[39;49m\u001b[43mNEW_SESSION\u001b[49m\u001b[43m,\u001b[49m\u001b[43m \u001b[49m\u001b[43mparameters\u001b[49m\u001b[43m)\u001b[49m\n\u001b[0;32m    360\u001b[0m \u001b[38;5;28;01mif\u001b[39;00m \u001b[38;5;124m'\u001b[39m\u001b[38;5;124msessionId\u001b[39m\u001b[38;5;124m'\u001b[39m \u001b[38;5;129;01mnot\u001b[39;00m \u001b[38;5;129;01min\u001b[39;00m response:\n\u001b[0;32m    361\u001b[0m     response \u001b[38;5;241m=\u001b[39m response[\u001b[38;5;124m'\u001b[39m\u001b[38;5;124mvalue\u001b[39m\u001b[38;5;124m'\u001b[39m]\n",
      "File \u001b[1;32m~\\anaconda3\\envs\\nike\\lib\\site-packages\\selenium\\webdriver\\remote\\webdriver.py:424\u001b[0m, in \u001b[0;36mWebDriver.execute\u001b[1;34m(self, driver_command, params)\u001b[0m\n\u001b[0;32m    422\u001b[0m response \u001b[38;5;241m=\u001b[39m \u001b[38;5;28mself\u001b[39m\u001b[38;5;241m.\u001b[39mcommand_executor\u001b[38;5;241m.\u001b[39mexecute(driver_command, params)\n\u001b[0;32m    423\u001b[0m \u001b[38;5;28;01mif\u001b[39;00m response:\n\u001b[1;32m--> 424\u001b[0m     \u001b[38;5;28;43mself\u001b[39;49m\u001b[38;5;241;43m.\u001b[39;49m\u001b[43merror_handler\u001b[49m\u001b[38;5;241;43m.\u001b[39;49m\u001b[43mcheck_response\u001b[49m\u001b[43m(\u001b[49m\u001b[43mresponse\u001b[49m\u001b[43m)\u001b[49m\n\u001b[0;32m    425\u001b[0m     response[\u001b[38;5;124m'\u001b[39m\u001b[38;5;124mvalue\u001b[39m\u001b[38;5;124m'\u001b[39m] \u001b[38;5;241m=\u001b[39m \u001b[38;5;28mself\u001b[39m\u001b[38;5;241m.\u001b[39m_unwrap_value(\n\u001b[0;32m    426\u001b[0m         response\u001b[38;5;241m.\u001b[39mget(\u001b[38;5;124m'\u001b[39m\u001b[38;5;124mvalue\u001b[39m\u001b[38;5;124m'\u001b[39m, \u001b[38;5;28;01mNone\u001b[39;00m))\n\u001b[0;32m    427\u001b[0m     \u001b[38;5;28;01mreturn\u001b[39;00m response\n",
      "File \u001b[1;32m~\\anaconda3\\envs\\nike\\lib\\site-packages\\selenium\\webdriver\\remote\\errorhandler.py:247\u001b[0m, in \u001b[0;36mErrorHandler.check_response\u001b[1;34m(self, response)\u001b[0m\n\u001b[0;32m    245\u001b[0m         alert_text \u001b[38;5;241m=\u001b[39m value[\u001b[38;5;124m'\u001b[39m\u001b[38;5;124malert\u001b[39m\u001b[38;5;124m'\u001b[39m]\u001b[38;5;241m.\u001b[39mget(\u001b[38;5;124m'\u001b[39m\u001b[38;5;124mtext\u001b[39m\u001b[38;5;124m'\u001b[39m)\n\u001b[0;32m    246\u001b[0m     \u001b[38;5;28;01mraise\u001b[39;00m exception_class(message, screen, stacktrace, alert_text)  \u001b[38;5;66;03m# type: ignore[call-arg]  # mypy is not smart enough here\u001b[39;00m\n\u001b[1;32m--> 247\u001b[0m \u001b[38;5;28;01mraise\u001b[39;00m exception_class(message, screen, stacktrace)\n",
      "\u001b[1;31mWebDriverException\u001b[0m: Message: unknown error: cannot connect to chrome at 127.0.0.1:9222\nfrom session not created: This version of ChromeDriver only supports Chrome version 98\nCurrent browser version is 97.0.4692.99\nStacktrace:\nBacktrace:\n\tOrdinal0 [0x00D77AC3+2587331]\n\tOrdinal0 [0x00D0ADD1+2141649]\n\tOrdinal0 [0x00C03BB8+1063864]\n\tOrdinal0 [0x00C23638+1193528]\n\tOrdinal0 [0x00C1CD9B+1166747]\n\tOrdinal0 [0x00C1CB66+1166182]\n\tOrdinal0 [0x00C4D12F+1364271]\n\tOrdinal0 [0x00C4CD5A+1363290]\n\tOrdinal0 [0x00C484A6+1344678]\n\tOrdinal0 [0x00C253F6+1201142]\n\tOrdinal0 [0x00C262E6+1204966]\n\tGetHandleVerifier [0x00F1DF22+1680738]\n\tGetHandleVerifier [0x00FD0DBC+2413564]\n\tGetHandleVerifier [0x00E0D151+563089]\n\tGetHandleVerifier [0x00E0BF13+558419]\n\tOrdinal0 [0x00D1081E+2164766]\n\tOrdinal0 [0x00D15508+2184456]\n\tOrdinal0 [0x00D15650+2184784]\n\tOrdinal0 [0x00D1F5BC+2225596]\n\tBaseThreadInitThunk [0x7765FA29+25]\n\tRtlGetAppContainerNamedObjectPath [0x77D67A9E+286]\n\tRtlGetAppContainerNamedObjectPath [0x77D67A6E+238]\n"
     ]
    }
   ],
   "source": [
    "# -------------------------------------------------\n",
    "chrome_ver = chromedriver_autoinstaller.get_chrome_version().split('.')[0]\n",
    "\n",
    "chrome_exe_path = str(os.path.abspath(os.getcwd()))\n",
    "chrome_exe_path = chrome_exe_path + '\\Chrome\\Application\\chrome.exe'\n",
    "\n",
    "chrome_cookie_path = str(os.path.abspath(os.getcwd()))\n",
    "chrome_cookie_path = chrome_cookie_path + '\\Chrome_cookie'\n",
    "\n",
    "chrome_driver_path = str(os.path.abspath(os.getcwd()))\n",
    "chrome_driver_path = chrome_driver_path + '\\\\' + chrome_ver + '\\chromedriver.exe'\n",
    "# -------------------------------------------------\n",
    "subprocess.Popen(r'{exe} --remote-debugging-port=9222 --user-data-dir=\"{cookie}\"'.format(exe=chrome_exe_path, cookie=chrome_cookie_path))\n",
    "\n",
    "#프록시 서버 설정\n",
    "PROXY = \"209.61.207.133:58758:run:rKeLShPi\"\n",
    "webdriver.DesiredCapabilities.CHROME['proxy'] = {\n",
    "    \"httpProxy\": PROXY,\n",
    "    \"ftpProxy\": PROXY,\n",
    "    \"sslProxy\": PROXY,\n",
    "    \"proxyType\": \"MANUAL\"\n",
    "}\n",
    "\n",
    "#페이지가 다 로드 되기 전에 다음 코드 실행할 수 있도록 설정\n",
    "caps = DesiredCapabilities().CHROME \n",
    "caps[\"pageLoadStrategy\"] = \"none\"\n",
    "\n",
    "#디버거 모드로 설정(이렇게 안하면 로그인이 다 막힘)\n",
    "option = Options()\n",
    "option.add_argument(\"--start-maximized\")\n",
    "option.add_experimental_option(\"debuggerAddress\", \"127.0.0.1:9222\")\n",
    "# option.add_argument('--blink-settings=imagesEnabled=false')\n",
    "option.add_argument(\"user-agent=Mozilla/5.0 (Windows NT 10.0; Win64; x64) AppleWebKit/537.36 (KHTML, like Gecko) Chrome/97.0.4692.99 Safari/537.36\")\n",
    "option.add_argument(f'--user-data-dir={chrome_cookie_path}')\n",
    "\n",
    "\n",
    "#크롬 드라이버 설정\n",
    "try:\n",
    "    driver = webdriver.Chrome(executable_path=f'{chrome_driver_path}',desired_capabilities=caps, options=option)\n",
    "except:\n",
    "    chromedriver_autoinstaller.install(True)\n",
    "    driver = webdriver.Chrome(executable_path=f'{chrome_driver_path}',desired_capabilities=caps, options=option)\n",
    "\n",
    "#암시적 wait 설정\n",
    "driver.implicitly_wait(1)    \n",
    "    \n",
    "#wait driver 설정\n",
    "wait = WebDriverWait(driver, 6)\n",
    "\n",
    "driver.get(\"https://www.nike.com/kr/ko_kr/\")\n",
    "driver.switch_to.window(driver.window_handles[0])\n",
    "\n",
    "\n",
    "execute_time = input(\"실행 시간을 입력해주세요 ex) 10:00AM  : \")\n",
    "item_link = input(\"상품 링크를 입력해주세요 \")\n",
    "item_size = input(\"구매하실 상품의 사이즈를 입력해주세요: \")\n",
    "item_num = int(input(\"구매하실 상품의 개수를 입력해주세요: \"))\n",
    "\n",
    "# execute_time = \"8:57PM\"\n",
    "# item_link = 'https://www.nike.com/kr/ko_kr/t/men/fw/basketball/DA8026-017/jnnd14/jordan-series-mid'\n",
    "# item_size = 265\n",
    "# item_num = 1\n",
    "\n",
    "\n",
    "while 1:\n",
    "    start_program = input(\"먼저 로그인을 해주세요, 로그인 후 동작을 실행하려면 start 혹은 s를 입력 후 enter를 눌러주세요: \")\n",
    "    if((start_program == 's') or (start_program == 'start')):\n",
    "        break\n",
    "    else:\n",
    "        print('잘못된 입력입니다, 다시 입력해주세요')\n",
    "        \n",
    "def wait_untill(execute_time):\n",
    "    if(execute_time != 0):\n",
    "        sleep_until = execute_time # Sets the time to sleep until.\n",
    "        sleep_until = time.strftime(\"%m/%d/%Y \" + sleep_until, time.localtime()) # Adds todays date to the string sleep_until.\n",
    "        now_epoch = time.time() #Current time in seconds from the epoch time.\n",
    "        alarm_epoch = time.mktime(time.strptime(sleep_until, \"%m/%d/%Y %I:%M%p\")) # Sleep_until time in seconds from the epoch time.\n",
    "        time.sleep(alarm_epoch - now_epoch + 0.7) # Sleeps until the next time the time is the set time, whether it's today or tomorrow.\n",
    "    else:\n",
    "        print(\"execute_time null\")\n",
    "    \n",
    "    \n",
    "def go_to_link(item_link):\n",
    "    driver.get(item_link)\n",
    "\n",
    "\n",
    "def click_item():\n",
    "    action = ActionChains(driver)\n",
    "    #검색해서 나온 페이지에서 첫 번째 아이템 클릭\n",
    "    element = WebDriverWait(driver, 5).until(EC.presence_of_element_located((By.XPATH, '/html/body/section/section/section/article/div/div/ul/li[1]')))\n",
    "    action.move_to_element(element).click().perform()\n",
    "    \n",
    "def click_size(item_size):\n",
    "    action = ActionChains(driver)\n",
    "    sleep(1.3)\n",
    "    size_element = WebDriverWait(driver, 5).until(EC.element_to_be_clickable((By.XPATH, \\\n",
    "                        '/html/body/section/section/section/article/article[2]/div/div[4]/div/div[2]/form/div[2]/div[2]/div[1]/div/span[*]/label[text()=' + item_size  + ']')))\n",
    "    action.move_to_element(size_element).click().perform()\n",
    "    \n",
    "def select_item_num(item_num):\n",
    "    action = ActionChains(driver)\n",
    "    try:\n",
    "        item_num_element = WebDriverWait(driver, 5).until(EC.element_to_be_clickable((By.XPATH, '/html/body/section/section/section/article/article[2]/div/div[4]/div/div[2]/form/div[2]/div[5]/span/button[2]/i')))\n",
    "    except:\n",
    "        item_num_element = WebDriverWait(driver, 5).until(EC.element_to_be_clickable((By.XPATH, '/html/body/section/section/section/article/article[2]/div/div[4]/div/div[2]/form/div[2]/div[4]/span/button[2]/i')))\n",
    "        \n",
    "    action.move_to_element(item_num_element)\n",
    "    for i in range(item_num-1):\n",
    "        action.click().perform()\n",
    "        sleep(0.05)\n",
    "\n",
    "def check_size_selected_successfully():\n",
    "    return driver.page_source.find(\"사이즈를 선택해 주세요\")\n",
    "  \n",
    "def click_Purchase_btn():\n",
    "    action = ActionChains(driver)\n",
    "    Purchase_btn = WebDriverWait(driver, 5).until(EC.element_to_be_clickable((By.XPATH, '//*[@id=\"btn-buy\"]')))\n",
    "    action.move_to_element(Purchase_btn).click().perform()\n",
    "    \n",
    "def choose_address():\n",
    "    action = ActionChains(driver)\n",
    "    default_addr = WebDriverWait(driver,4).until(EC.element_to_be_clickable((By.XPATH, '//*[@id=\"shipping_info\"]/div[1]/ul/li[3]/div/span/label/i')))\n",
    "    action.move_to_element(default_addr).click().perform()\n",
    "    sleep(0.05)\n",
    "    next_stage = WebDriverWait(driver,3).until(EC.element_to_be_clickable((By.XPATH, '//*[@id=\"btn-next\"]')))\n",
    "    action.move_to_element(next_stage).click().perform()\n",
    "\n",
    "def choose_payment():\n",
    "    action = ActionChains(driver)\n",
    "    payment = WebDriverWait(driver,2).until(EC.presence_of_element_located((By.XPATH, '//*[@id=\"payment-review\"]/div[1]/ul/li[1]/div/div[1]/h6/img')))\n",
    "    action.move_to_element(payment).click().perform()\n",
    "    sleep(0.05)\n",
    "    terms_of_conditions = WebDriverWait(driver,2).until(EC.presence_of_element_located((By.XPATH,'//*[@id=\"payment-review\"]/div[1]/ul/li[2]/form/div/span/label/i')))\n",
    "    action.move_to_element(terms_of_conditions).click().perform()\n",
    "    sleep(1)\n",
    "    complete_purchase = WebDriverWait(driver,2).until(EC.element_to_be_clickable((By.XPATH,'//*[@id=\"complete_checkout\"]/button')))\n",
    "    action.move_to_element(complete_purchase).click().perform()\n",
    "    \n",
    "    \n",
    "def goto_cart():\n",
    "    driver.get(\"https://www.nike.com/kr/ko_kr/cart\")\n",
    "    action = ActionChains(driver)\n",
    "    cart_purchase = WebDriverWait(driver,2).until(EC.element_to_be_clickable((By.XPATH, '/html/body/section/section/section/article/div[2]/div[2]/div[1]/a')))\n",
    "    action.move_to_element(cart_purchase).click().perform()\n",
    "    \n",
    "    \n",
    "def job():\n",
    "    if(execute_time!=\"0\"):\n",
    "        wait_untill(execute_time)\n",
    "    #--------제품 링크로 이동--------\n",
    "    go_to_link(item_link)\n",
    "    #--------제품 검색 및 선택--------\n",
    "    \n",
    "    #--------개수 및 사이즈 선택--------\n",
    "    while 1:\n",
    "#         select_item_num(item_num)\n",
    "        sleep(1)\n",
    "        click_size(item_size)\n",
    "        click_Purchase_btn()\n",
    "        sleep(0.5)\n",
    "        if(check_size_selected_successfully() == -1):\n",
    "            break\n",
    "        else:\n",
    "            driver.refresh()\n",
    "            pass\n",
    "    #--------개수 및 사이즈 선택--------\n",
    "    \n",
    "    #--------결제--------\n",
    "    choose_address()\n",
    "    try:\n",
    "        choose_payment()\n",
    "    except:\n",
    "        if(driver.current_url.find(\"no-access\") != -1):\n",
    "            goto_cart()\n",
    "    if(driver.current_url.find(\"no-access\") != -1):\n",
    "        goto_cart()\n",
    "    \n",
    "    #--------결제--------\n",
    "\n",
    "# /html/body/section/section/section/article/div[2]/div[2]/div[1]/a\n",
    "job()"
   ]
  },
  {
   "cell_type": "code",
   "execution_count": null,
   "id": "f3ec93b3",
   "metadata": {
    "ExecuteTime": {
     "end_time": "2022-02-05T07:00:51.458026Z",
     "start_time": "2022-02-05T07:00:51.030446Z"
    }
   },
   "outputs": [],
   "source": [
    "조던 시리즈 미드"
   ]
  },
  {
   "cell_type": "code",
   "execution_count": 3,
   "id": "af862e0d",
   "metadata": {
    "ExecuteTime": {
     "end_time": "2022-02-08T08:23:53.054347Z",
     "start_time": "2022-02-08T08:23:53.040383Z"
    }
   },
   "outputs": [
    {
     "name": "stdout",
     "output_type": "stream",
     "text": [
      "C:\\Users\\dblab\\Desktop\\kimsinhyun_2\\nike\\개발용dir\\97\\chromedriver.exe\n"
     ]
    }
   ],
   "source": [
    "print(chrome_driver_path)"
   ]
  },
  {
   "cell_type": "code",
   "execution_count": null,
   "id": "9b8e9993",
   "metadata": {},
   "outputs": [],
   "source": [
    "https://www.nike.com/kr/ko_kr/t/men/fw/basketball/DA8026-017/jnnd14/jordan-series-mid"
   ]
  },
  {
   "cell_type": "code",
   "execution_count": 7,
   "id": "a7dd462a",
   "metadata": {
    "ExecuteTime": {
     "end_time": "2022-02-05T13:26:02.016928Z",
     "start_time": "2022-02-05T13:25:52.406777Z"
    }
   },
   "outputs": [],
   "source": [
    "https://www.nike.com/kr/ko_kr/t/men/fw/nike-sportswear/DJ6188-001/mufe60/nike-dunk-low-retro"
   ]
  },
  {
   "cell_type": "code",
   "execution_count": 5,
   "id": "9d6d1391",
   "metadata": {
    "ExecuteTime": {
     "end_time": "2022-02-05T13:42:57.387353Z",
     "start_time": "2022-02-05T13:42:57.347361Z"
    }
   },
   "outputs": [],
   "source": [
    "item_num_element = WebDriverWait(driver, 5).until(EC.element_to_be_clickable((By.XPATH, '/html/body/section/section/section/article/article[2]/div/div[4]/div/div[2]/form/div[2]/div[4]/span/button[2]/i')))\n"
   ]
  },
  {
   "cell_type": "code",
   "execution_count": 3,
   "id": "a209ad8b",
   "metadata": {
    "ExecuteTime": {
     "end_time": "2022-02-06T11:59:09.114046Z",
     "start_time": "2022-02-06T11:59:08.942979Z"
    },
    "collapsed": true
   },
   "outputs": [
    {
     "ename": "TypeError",
     "evalue": "unsupported format string passed to NameError.__format__",
     "output_type": "error",
     "traceback": [
      "\u001b[1;31m---------------------------------------------------------------------------\u001b[0m",
      "\u001b[1;31mNameError\u001b[0m                                 Traceback (most recent call last)",
      "Input \u001b[1;32mIn [3]\u001b[0m, in \u001b[0;36m<module>\u001b[1;34m\u001b[0m\n\u001b[0;32m    193\u001b[0m \u001b[38;5;28;01mtry\u001b[39;00m:        \n\u001b[1;32m--> 194\u001b[0m     test_result \u001b[38;5;241m=\u001b[39m \u001b[43mfuture_test_result\u001b[49m\u001b[38;5;241;43m.\u001b[39;49m\u001b[43mresult\u001b[49m\u001b[43m(\u001b[49m\u001b[43mtimeout\u001b[49m\u001b[38;5;241;43m=\u001b[39;49m\u001b[38;5;28;43;01mNone\u001b[39;49;00m\u001b[43m)\u001b[49m \u001b[38;5;66;03m# can use `timeout` to wait max seconds for each thread               \u001b[39;00m\n\u001b[0;32m    195\u001b[0m     \u001b[38;5;66;03m#... do something with the test_result\u001b[39;00m\n",
      "File \u001b[1;32m~\\anaconda3\\envs\\nike\\lib\\concurrent\\futures\\_base.py:432\u001b[0m, in \u001b[0;36mFuture.result\u001b[1;34m(self, timeout)\u001b[0m\n\u001b[0;32m    431\u001b[0m \u001b[38;5;28;01melif\u001b[39;00m \u001b[38;5;28mself\u001b[39m\u001b[38;5;241m.\u001b[39m_state \u001b[38;5;241m==\u001b[39m FINISHED:\n\u001b[1;32m--> 432\u001b[0m     \u001b[38;5;28;01mreturn\u001b[39;00m \u001b[38;5;28;43mself\u001b[39;49m\u001b[38;5;241;43m.\u001b[39;49m\u001b[43m__get_result\u001b[49m\u001b[43m(\u001b[49m\u001b[43m)\u001b[49m\n\u001b[0;32m    434\u001b[0m \u001b[38;5;28mself\u001b[39m\u001b[38;5;241m.\u001b[39m_condition\u001b[38;5;241m.\u001b[39mwait(timeout)\n",
      "File \u001b[1;32m~\\anaconda3\\envs\\nike\\lib\\concurrent\\futures\\_base.py:388\u001b[0m, in \u001b[0;36mFuture.__get_result\u001b[1;34m(self)\u001b[0m\n\u001b[0;32m    387\u001b[0m \u001b[38;5;28;01mif\u001b[39;00m \u001b[38;5;28mself\u001b[39m\u001b[38;5;241m.\u001b[39m_exception:\n\u001b[1;32m--> 388\u001b[0m     \u001b[38;5;28;01mraise\u001b[39;00m \u001b[38;5;28mself\u001b[39m\u001b[38;5;241m.\u001b[39m_exception\n\u001b[0;32m    389\u001b[0m \u001b[38;5;28;01melse\u001b[39;00m:\n",
      "File \u001b[1;32m~\\anaconda3\\envs\\nike\\lib\\concurrent\\futures\\thread.py:57\u001b[0m, in \u001b[0;36m_WorkItem.run\u001b[1;34m(self)\u001b[0m\n\u001b[0;32m     56\u001b[0m \u001b[38;5;28;01mtry\u001b[39;00m:\n\u001b[1;32m---> 57\u001b[0m     result \u001b[38;5;241m=\u001b[39m \u001b[38;5;28;43mself\u001b[39;49m\u001b[38;5;241;43m.\u001b[39;49m\u001b[43mfn\u001b[49m\u001b[43m(\u001b[49m\u001b[38;5;241;43m*\u001b[39;49m\u001b[38;5;28;43mself\u001b[39;49m\u001b[38;5;241;43m.\u001b[39;49m\u001b[43margs\u001b[49m\u001b[43m,\u001b[49m\u001b[43m \u001b[49m\u001b[38;5;241;43m*\u001b[39;49m\u001b[38;5;241;43m*\u001b[39;49m\u001b[38;5;28;43mself\u001b[39;49m\u001b[38;5;241;43m.\u001b[39;49m\u001b[43mkwargs\u001b[49m\u001b[43m)\u001b[49m\n\u001b[0;32m     58\u001b[0m \u001b[38;5;28;01mexcept\u001b[39;00m \u001b[38;5;167;01mBaseException\u001b[39;00m \u001b[38;5;28;01mas\u001b[39;00m exc:\n",
      "Input \u001b[1;32mIn [3]\u001b[0m, in \u001b[0;36mselenium_test\u001b[1;34m(test_url)\u001b[0m\n\u001b[0;32m      7\u001b[0m \u001b[38;5;66;03m#chromeOptions.add_argument(\"--headless\") # make it not visible\u001b[39;00m\n\u001b[0;32m      8\u001b[0m \u001b[38;5;66;03m# -------------------------------------------------\u001b[39;00m\n\u001b[1;32m----> 9\u001b[0m chrome_ver \u001b[38;5;241m=\u001b[39m \u001b[43mchromedriver_autoinstaller\u001b[49m\u001b[38;5;241m.\u001b[39mget_chrome_version()\u001b[38;5;241m.\u001b[39msplit(\u001b[38;5;124m'\u001b[39m\u001b[38;5;124m.\u001b[39m\u001b[38;5;124m'\u001b[39m)[\u001b[38;5;241m0\u001b[39m]\n\u001b[0;32m     11\u001b[0m chrome_exe_path \u001b[38;5;241m=\u001b[39m \u001b[38;5;28mstr\u001b[39m(os\u001b[38;5;241m.\u001b[39mpath\u001b[38;5;241m.\u001b[39mabspath(os\u001b[38;5;241m.\u001b[39mgetcwd()))\n",
      "\u001b[1;31mNameError\u001b[0m: name 'chromedriver_autoinstaller' is not defined",
      "\nDuring handling of the above exception, another exception occurred:\n",
      "\u001b[1;31mTypeError\u001b[0m                                 Traceback (most recent call last)",
      "Input \u001b[1;32mIn [3]\u001b[0m, in \u001b[0;36m<module>\u001b[1;34m\u001b[0m\n\u001b[0;32m    195\u001b[0m     \u001b[38;5;66;03m#... do something with the test_result\u001b[39;00m\n\u001b[0;32m    196\u001b[0m \u001b[38;5;28;01mexcept\u001b[39;00m \u001b[38;5;167;01mException\u001b[39;00m \u001b[38;5;28;01mas\u001b[39;00m exc: \u001b[38;5;66;03m# can give a exception in some thread, but \u001b[39;00m\n\u001b[1;32m--> 197\u001b[0m     \u001b[38;5;28mprint\u001b[39m(\u001b[38;5;124;43m'\u001b[39;49m\u001b[38;5;124;43mthread generated an exception: \u001b[39;49m\u001b[38;5;132;43;01m{:0}\u001b[39;49;00m\u001b[38;5;124;43m'\u001b[39;49m\u001b[38;5;241;43m.\u001b[39;49m\u001b[43mformat\u001b[49m\u001b[43m(\u001b[49m\u001b[43mexc\u001b[49m\u001b[43m)\u001b[49m)\n",
      "\u001b[1;31mTypeError\u001b[0m: unsupported format string passed to NameError.__format__"
     ]
    }
   ],
   "source": [
    "from concurrent import futures\n",
    "from selenium import webdriver\n",
    "\n",
    "\n",
    "def selenium_test(test_url):\n",
    "    chromeOptions = webdriver.ChromeOptions()\n",
    "    #chromeOptions.add_argument(\"--headless\") # make it not visible\n",
    "    \n",
    "    sleep(20)\n",
    "with futures.ThreadPoolExecutor(max_workers=20) as executor: \n",
    "    future_test_results = [ executor.submit(selenium_test, i) for i in range(2) ] # running same test 6 times, using test number as url\n",
    "    for future_test_result in future_test_results: \n",
    "        try:        \n",
    "            test_result = future_test_result.result(timeout=None) # can use `timeout` to wait max seconds for each thread               \n",
    "            #... do something with the test_result\n",
    "        except Exception as exc: # can give a exception in some thread, but \n",
    "            print('thread generated an exception: {:0}'.format(exc))"
   ]
  },
  {
   "cell_type": "code",
   "execution_count": null,
   "id": "eca8b398",
   "metadata": {},
   "outputs": [],
   "source": []
  },
  {
   "cell_type": "code",
   "execution_count": null,
   "id": "0c9ee1e0",
   "metadata": {},
   "outputs": [],
   "source": []
  }
 ],
 "metadata": {
  "kernelspec": {
   "display_name": "nike",
   "language": "python",
   "name": "nike"
  },
  "language_info": {
   "codemirror_mode": {
    "name": "ipython",
    "version": 3
   },
   "file_extension": ".py",
   "mimetype": "text/x-python",
   "name": "python",
   "nbconvert_exporter": "python",
   "pygments_lexer": "ipython3",
   "version": "3.8.0"
  },
  "toc": {
   "base_numbering": 1,
   "nav_menu": {},
   "number_sections": true,
   "sideBar": true,
   "skip_h1_title": false,
   "title_cell": "Table of Contents",
   "title_sidebar": "Contents",
   "toc_cell": false,
   "toc_position": {},
   "toc_section_display": true,
   "toc_window_display": false
  }
 },
 "nbformat": 4,
 "nbformat_minor": 5
}
